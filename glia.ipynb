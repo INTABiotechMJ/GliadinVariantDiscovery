{
 "cells": [
  {
   "cell_type": "code",
   "execution_count": 5,
   "metadata": {},
   "outputs": [
    {
     "data": {
      "text/plain": [
       "262"
      ]
     },
     "execution_count": 5,
     "metadata": {},
     "output_type": "execute_result"
    }
   ],
   "source": [
    "from Bio import SeqIO\n",
    "SeqIO.convert('sar720-2017_S7_L001_I2_001.fastq','fastq','sar720-2017_S7_L001_I2_001.fasta','fasta')\n",
    "SeqIO.convert('sar720-2017_S7_L001_R1_001.fastq','fastq','sar720-2017_S7_L001_R1_001.fasta','fasta')\n",
    "SeqIO.convert('sar720-2017_S7_L001_R2_001.fastq','fastq','sar720-2017_S7_L001_R2_001.fasta','fasta')"
   ]
  },
  {
   "cell_type": "code",
   "execution_count": null,
   "metadata": {},
   "outputs": [],
   "source": []
  }
 ],
 "metadata": {
  "kernelspec": {
   "display_name": "Python 3",
   "language": "python",
   "name": "python3"
  },
  "language_info": {
   "codemirror_mode": {
    "name": "ipython",
    "version": 3
   },
   "file_extension": ".py",
   "mimetype": "text/x-python",
   "name": "python",
   "nbconvert_exporter": "python",
   "pygments_lexer": "ipython3",
   "version": "3.6.5"
  }
 },
 "nbformat": 4,
 "nbformat_minor": 2
}
